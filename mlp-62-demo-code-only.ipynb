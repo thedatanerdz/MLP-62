{
 "cells": [
  {
   "cell_type": "code",
   "execution_count": 1,
   "id": "8743eff6",
   "metadata": {
    "execution": {
     "iopub.execute_input": "2023-07-12T15:23:56.938386Z",
     "iopub.status.busy": "2023-07-12T15:23:56.938009Z",
     "iopub.status.idle": "2023-07-12T15:23:56.991872Z",
     "shell.execute_reply": "2023-07-12T15:23:56.990327Z"
    },
    "papermill": {
     "duration": 0.067011,
     "end_time": "2023-07-12T15:23:56.994573",
     "exception": false,
     "start_time": "2023-07-12T15:23:56.927562",
     "status": "completed"
    },
    "tags": []
   },
   "outputs": [
    {
     "data": {
      "text/html": [
       "<div>\n",
       "<style scoped>\n",
       "    .dataframe tbody tr th:only-of-type {\n",
       "        vertical-align: middle;\n",
       "    }\n",
       "\n",
       "    .dataframe tbody tr th {\n",
       "        vertical-align: top;\n",
       "    }\n",
       "\n",
       "    .dataframe thead th {\n",
       "        text-align: right;\n",
       "    }\n",
       "</style>\n",
       "<table border=\"1\" class=\"dataframe\">\n",
       "  <thead>\n",
       "    <tr style=\"text-align: right;\">\n",
       "      <th></th>\n",
       "      <th>Pregnancies</th>\n",
       "      <th>Glucose</th>\n",
       "      <th>BloodPressure</th>\n",
       "      <th>SkinThickness</th>\n",
       "      <th>Insulin</th>\n",
       "      <th>BMI</th>\n",
       "      <th>DiabetesPedigreeFunction</th>\n",
       "      <th>Age</th>\n",
       "      <th>Outcome</th>\n",
       "    </tr>\n",
       "  </thead>\n",
       "  <tbody>\n",
       "    <tr>\n",
       "      <th>0</th>\n",
       "      <td>6</td>\n",
       "      <td>148</td>\n",
       "      <td>72</td>\n",
       "      <td>35</td>\n",
       "      <td>0</td>\n",
       "      <td>33.6</td>\n",
       "      <td>0.627</td>\n",
       "      <td>50</td>\n",
       "      <td>1</td>\n",
       "    </tr>\n",
       "    <tr>\n",
       "      <th>1</th>\n",
       "      <td>1</td>\n",
       "      <td>85</td>\n",
       "      <td>66</td>\n",
       "      <td>29</td>\n",
       "      <td>0</td>\n",
       "      <td>26.6</td>\n",
       "      <td>0.351</td>\n",
       "      <td>31</td>\n",
       "      <td>0</td>\n",
       "    </tr>\n",
       "    <tr>\n",
       "      <th>2</th>\n",
       "      <td>8</td>\n",
       "      <td>183</td>\n",
       "      <td>64</td>\n",
       "      <td>0</td>\n",
       "      <td>0</td>\n",
       "      <td>23.3</td>\n",
       "      <td>0.672</td>\n",
       "      <td>32</td>\n",
       "      <td>1</td>\n",
       "    </tr>\n",
       "    <tr>\n",
       "      <th>3</th>\n",
       "      <td>1</td>\n",
       "      <td>89</td>\n",
       "      <td>66</td>\n",
       "      <td>23</td>\n",
       "      <td>94</td>\n",
       "      <td>28.1</td>\n",
       "      <td>0.167</td>\n",
       "      <td>21</td>\n",
       "      <td>0</td>\n",
       "    </tr>\n",
       "    <tr>\n",
       "      <th>4</th>\n",
       "      <td>0</td>\n",
       "      <td>137</td>\n",
       "      <td>40</td>\n",
       "      <td>35</td>\n",
       "      <td>168</td>\n",
       "      <td>43.1</td>\n",
       "      <td>2.288</td>\n",
       "      <td>33</td>\n",
       "      <td>1</td>\n",
       "    </tr>\n",
       "  </tbody>\n",
       "</table>\n",
       "</div>"
      ],
      "text/plain": [
       "   Pregnancies  Glucose  BloodPressure  SkinThickness  Insulin   BMI  \\\n",
       "0            6      148             72             35        0  33.6   \n",
       "1            1       85             66             29        0  26.6   \n",
       "2            8      183             64              0        0  23.3   \n",
       "3            1       89             66             23       94  28.1   \n",
       "4            0      137             40             35      168  43.1   \n",
       "\n",
       "   DiabetesPedigreeFunction  Age  Outcome  \n",
       "0                     0.627   50        1  \n",
       "1                     0.351   31        0  \n",
       "2                     0.672   32        1  \n",
       "3                     0.167   21        0  \n",
       "4                     2.288   33        1  "
      ]
     },
     "execution_count": 1,
     "metadata": {},
     "output_type": "execute_result"
    }
   ],
   "source": [
    "import pandas as pd\n",
    "\n",
    "df = pd.read_csv(\"/kaggle/input/pima-indians-diabetes-database/diabetes.csv\")\n",
    "df.head()"
   ]
  },
  {
   "cell_type": "code",
   "execution_count": 2,
   "id": "81c5ace9",
   "metadata": {
    "execution": {
     "iopub.execute_input": "2023-07-12T15:23:57.013637Z",
     "iopub.status.busy": "2023-07-12T15:23:57.013175Z",
     "iopub.status.idle": "2023-07-12T15:23:57.023902Z",
     "shell.execute_reply": "2023-07-12T15:23:57.022833Z"
    },
    "papermill": {
     "duration": 0.022636,
     "end_time": "2023-07-12T15:23:57.026060",
     "exception": false,
     "start_time": "2023-07-12T15:23:57.003424",
     "status": "completed"
    },
    "tags": []
   },
   "outputs": [
    {
     "data": {
      "text/plain": [
       "Pregnancies                 0\n",
       "Glucose                     0\n",
       "BloodPressure               0\n",
       "SkinThickness               0\n",
       "Insulin                     0\n",
       "BMI                         0\n",
       "DiabetesPedigreeFunction    0\n",
       "Age                         0\n",
       "Outcome                     0\n",
       "dtype: int64"
      ]
     },
     "execution_count": 2,
     "metadata": {},
     "output_type": "execute_result"
    }
   ],
   "source": [
    "df.isnull().sum()"
   ]
  },
  {
   "cell_type": "code",
   "execution_count": 3,
   "id": "42d86ceb",
   "metadata": {
    "execution": {
     "iopub.execute_input": "2023-07-12T15:23:57.044704Z",
     "iopub.status.busy": "2023-07-12T15:23:57.044298Z",
     "iopub.status.idle": "2023-07-12T15:23:57.085917Z",
     "shell.execute_reply": "2023-07-12T15:23:57.084751Z"
    },
    "papermill": {
     "duration": 0.053727,
     "end_time": "2023-07-12T15:23:57.088217",
     "exception": false,
     "start_time": "2023-07-12T15:23:57.034490",
     "status": "completed"
    },
    "scrolled": true,
    "tags": []
   },
   "outputs": [
    {
     "data": {
      "text/html": [
       "<div>\n",
       "<style scoped>\n",
       "    .dataframe tbody tr th:only-of-type {\n",
       "        vertical-align: middle;\n",
       "    }\n",
       "\n",
       "    .dataframe tbody tr th {\n",
       "        vertical-align: top;\n",
       "    }\n",
       "\n",
       "    .dataframe thead th {\n",
       "        text-align: right;\n",
       "    }\n",
       "</style>\n",
       "<table border=\"1\" class=\"dataframe\">\n",
       "  <thead>\n",
       "    <tr style=\"text-align: right;\">\n",
       "      <th></th>\n",
       "      <th>Pregnancies</th>\n",
       "      <th>Glucose</th>\n",
       "      <th>BloodPressure</th>\n",
       "      <th>SkinThickness</th>\n",
       "      <th>Insulin</th>\n",
       "      <th>BMI</th>\n",
       "      <th>DiabetesPedigreeFunction</th>\n",
       "      <th>Age</th>\n",
       "      <th>Outcome</th>\n",
       "    </tr>\n",
       "  </thead>\n",
       "  <tbody>\n",
       "    <tr>\n",
       "      <th>count</th>\n",
       "      <td>768.000000</td>\n",
       "      <td>768.000000</td>\n",
       "      <td>768.000000</td>\n",
       "      <td>768.000000</td>\n",
       "      <td>768.000000</td>\n",
       "      <td>768.000000</td>\n",
       "      <td>768.000000</td>\n",
       "      <td>768.000000</td>\n",
       "      <td>768.000000</td>\n",
       "    </tr>\n",
       "    <tr>\n",
       "      <th>mean</th>\n",
       "      <td>3.845052</td>\n",
       "      <td>120.894531</td>\n",
       "      <td>69.105469</td>\n",
       "      <td>20.536458</td>\n",
       "      <td>79.799479</td>\n",
       "      <td>31.992578</td>\n",
       "      <td>0.471876</td>\n",
       "      <td>33.240885</td>\n",
       "      <td>0.348958</td>\n",
       "    </tr>\n",
       "    <tr>\n",
       "      <th>std</th>\n",
       "      <td>3.369578</td>\n",
       "      <td>31.972618</td>\n",
       "      <td>19.355807</td>\n",
       "      <td>15.952218</td>\n",
       "      <td>115.244002</td>\n",
       "      <td>7.884160</td>\n",
       "      <td>0.331329</td>\n",
       "      <td>11.760232</td>\n",
       "      <td>0.476951</td>\n",
       "    </tr>\n",
       "    <tr>\n",
       "      <th>min</th>\n",
       "      <td>0.000000</td>\n",
       "      <td>0.000000</td>\n",
       "      <td>0.000000</td>\n",
       "      <td>0.000000</td>\n",
       "      <td>0.000000</td>\n",
       "      <td>0.000000</td>\n",
       "      <td>0.078000</td>\n",
       "      <td>21.000000</td>\n",
       "      <td>0.000000</td>\n",
       "    </tr>\n",
       "    <tr>\n",
       "      <th>25%</th>\n",
       "      <td>1.000000</td>\n",
       "      <td>99.000000</td>\n",
       "      <td>62.000000</td>\n",
       "      <td>0.000000</td>\n",
       "      <td>0.000000</td>\n",
       "      <td>27.300000</td>\n",
       "      <td>0.243750</td>\n",
       "      <td>24.000000</td>\n",
       "      <td>0.000000</td>\n",
       "    </tr>\n",
       "    <tr>\n",
       "      <th>50%</th>\n",
       "      <td>3.000000</td>\n",
       "      <td>117.000000</td>\n",
       "      <td>72.000000</td>\n",
       "      <td>23.000000</td>\n",
       "      <td>30.500000</td>\n",
       "      <td>32.000000</td>\n",
       "      <td>0.372500</td>\n",
       "      <td>29.000000</td>\n",
       "      <td>0.000000</td>\n",
       "    </tr>\n",
       "    <tr>\n",
       "      <th>75%</th>\n",
       "      <td>6.000000</td>\n",
       "      <td>140.250000</td>\n",
       "      <td>80.000000</td>\n",
       "      <td>32.000000</td>\n",
       "      <td>127.250000</td>\n",
       "      <td>36.600000</td>\n",
       "      <td>0.626250</td>\n",
       "      <td>41.000000</td>\n",
       "      <td>1.000000</td>\n",
       "    </tr>\n",
       "    <tr>\n",
       "      <th>max</th>\n",
       "      <td>17.000000</td>\n",
       "      <td>199.000000</td>\n",
       "      <td>122.000000</td>\n",
       "      <td>99.000000</td>\n",
       "      <td>846.000000</td>\n",
       "      <td>67.100000</td>\n",
       "      <td>2.420000</td>\n",
       "      <td>81.000000</td>\n",
       "      <td>1.000000</td>\n",
       "    </tr>\n",
       "  </tbody>\n",
       "</table>\n",
       "</div>"
      ],
      "text/plain": [
       "       Pregnancies     Glucose  BloodPressure  SkinThickness     Insulin  \\\n",
       "count   768.000000  768.000000     768.000000     768.000000  768.000000   \n",
       "mean      3.845052  120.894531      69.105469      20.536458   79.799479   \n",
       "std       3.369578   31.972618      19.355807      15.952218  115.244002   \n",
       "min       0.000000    0.000000       0.000000       0.000000    0.000000   \n",
       "25%       1.000000   99.000000      62.000000       0.000000    0.000000   \n",
       "50%       3.000000  117.000000      72.000000      23.000000   30.500000   \n",
       "75%       6.000000  140.250000      80.000000      32.000000  127.250000   \n",
       "max      17.000000  199.000000     122.000000      99.000000  846.000000   \n",
       "\n",
       "              BMI  DiabetesPedigreeFunction         Age     Outcome  \n",
       "count  768.000000                768.000000  768.000000  768.000000  \n",
       "mean    31.992578                  0.471876   33.240885    0.348958  \n",
       "std      7.884160                  0.331329   11.760232    0.476951  \n",
       "min      0.000000                  0.078000   21.000000    0.000000  \n",
       "25%     27.300000                  0.243750   24.000000    0.000000  \n",
       "50%     32.000000                  0.372500   29.000000    0.000000  \n",
       "75%     36.600000                  0.626250   41.000000    1.000000  \n",
       "max     67.100000                  2.420000   81.000000    1.000000  "
      ]
     },
     "execution_count": 3,
     "metadata": {},
     "output_type": "execute_result"
    }
   ],
   "source": [
    "df.describe()"
   ]
  },
  {
   "cell_type": "code",
   "execution_count": 4,
   "id": "199b8544",
   "metadata": {
    "execution": {
     "iopub.execute_input": "2023-07-12T15:23:57.108180Z",
     "iopub.status.busy": "2023-07-12T15:23:57.107481Z",
     "iopub.status.idle": "2023-07-12T15:23:57.117968Z",
     "shell.execute_reply": "2023-07-12T15:23:57.117183Z"
    },
    "papermill": {
     "duration": 0.022992,
     "end_time": "2023-07-12T15:23:57.120182",
     "exception": false,
     "start_time": "2023-07-12T15:23:57.097190",
     "status": "completed"
    },
    "tags": []
   },
   "outputs": [
    {
     "data": {
      "text/plain": [
       "0    500\n",
       "1    268\n",
       "Name: Outcome, dtype: int64"
      ]
     },
     "execution_count": 4,
     "metadata": {},
     "output_type": "execute_result"
    }
   ],
   "source": [
    "df.Outcome.value_counts()"
   ]
  },
  {
   "cell_type": "markdown",
   "id": "fa2c6275",
   "metadata": {
    "papermill": {
     "duration": 0.008742,
     "end_time": "2023-07-12T15:23:57.138140",
     "exception": false,
     "start_time": "2023-07-12T15:23:57.129398",
     "status": "completed"
    },
    "tags": []
   },
   "source": [
    "There is slight imbalance in our dataset but since it is not major we will not worry about it!"
   ]
  },
  {
   "cell_type": "markdown",
   "id": "609cb066",
   "metadata": {
    "papermill": {
     "duration": 0.008752,
     "end_time": "2023-07-12T15:23:57.155840",
     "exception": false,
     "start_time": "2023-07-12T15:23:57.147088",
     "status": "completed"
    },
    "tags": []
   },
   "source": [
    "<h3>Train test split</h3>"
   ]
  },
  {
   "cell_type": "code",
   "execution_count": 5,
   "id": "88c96018",
   "metadata": {
    "execution": {
     "iopub.execute_input": "2023-07-12T15:23:57.175769Z",
     "iopub.status.busy": "2023-07-12T15:23:57.174835Z",
     "iopub.status.idle": "2023-07-12T15:23:57.185192Z",
     "shell.execute_reply": "2023-07-12T15:23:57.184017Z"
    },
    "papermill": {
     "duration": 0.022905,
     "end_time": "2023-07-12T15:23:57.187691",
     "exception": false,
     "start_time": "2023-07-12T15:23:57.164786",
     "status": "completed"
    },
    "tags": []
   },
   "outputs": [],
   "source": [
    "X = df.drop(\"Outcome\",axis=\"columns\")\n",
    "y = df.Outcome"
   ]
  },
  {
   "cell_type": "code",
   "execution_count": 6,
   "id": "fb9ae070",
   "metadata": {
    "execution": {
     "iopub.execute_input": "2023-07-12T15:23:57.208535Z",
     "iopub.status.busy": "2023-07-12T15:23:57.208098Z",
     "iopub.status.idle": "2023-07-12T15:23:58.383614Z",
     "shell.execute_reply": "2023-07-12T15:23:58.382339Z"
    },
    "papermill": {
     "duration": 1.188179,
     "end_time": "2023-07-12T15:23:58.386031",
     "exception": false,
     "start_time": "2023-07-12T15:23:57.197852",
     "status": "completed"
    },
    "tags": []
   },
   "outputs": [
    {
     "name": "stderr",
     "output_type": "stream",
     "text": [
      "/opt/conda/lib/python3.10/site-packages/scipy/__init__.py:146: UserWarning: A NumPy version >=1.16.5 and <1.23.0 is required for this version of SciPy (detected version 1.23.5\n",
      "  warnings.warn(f\"A NumPy version >={np_minversion} and <{np_maxversion}\"\n"
     ]
    },
    {
     "data": {
      "text/plain": [
       "array([[ 0.63994726,  0.84832379,  0.14964075,  0.90726993, -0.69289057,\n",
       "         0.20401277,  0.46849198,  1.4259954 ],\n",
       "       [-0.84488505, -1.12339636, -0.16054575,  0.53090156, -0.69289057,\n",
       "        -0.68442195, -0.36506078, -0.19067191],\n",
       "       [ 1.23388019,  1.94372388, -0.26394125, -1.28821221, -0.69289057,\n",
       "        -1.10325546,  0.60439732, -0.10558415]])"
      ]
     },
     "execution_count": 6,
     "metadata": {},
     "output_type": "execute_result"
    }
   ],
   "source": [
    "from sklearn.preprocessing import StandardScaler\n",
    "\n",
    "scaler = StandardScaler()\n",
    "X_scaled = scaler.fit_transform(X)\n",
    "X_scaled[:3]"
   ]
  },
  {
   "cell_type": "code",
   "execution_count": 7,
   "id": "019e2b81",
   "metadata": {
    "execution": {
     "iopub.execute_input": "2023-07-12T15:23:58.406212Z",
     "iopub.status.busy": "2023-07-12T15:23:58.405822Z",
     "iopub.status.idle": "2023-07-12T15:23:58.524615Z",
     "shell.execute_reply": "2023-07-12T15:23:58.523541Z"
    },
    "papermill": {
     "duration": 0.131962,
     "end_time": "2023-07-12T15:23:58.527329",
     "exception": false,
     "start_time": "2023-07-12T15:23:58.395367",
     "status": "completed"
    },
    "tags": []
   },
   "outputs": [],
   "source": [
    "from sklearn.model_selection import train_test_split\n",
    "\n",
    "X_train, X_test, y_train, y_test = train_test_split(X_scaled, y, stratify=y, random_state=10)"
   ]
  },
  {
   "cell_type": "code",
   "execution_count": 8,
   "id": "573e0b7c",
   "metadata": {
    "execution": {
     "iopub.execute_input": "2023-07-12T15:23:58.548662Z",
     "iopub.status.busy": "2023-07-12T15:23:58.547415Z",
     "iopub.status.idle": "2023-07-12T15:23:58.555070Z",
     "shell.execute_reply": "2023-07-12T15:23:58.553810Z"
    },
    "papermill": {
     "duration": 0.020673,
     "end_time": "2023-07-12T15:23:58.557308",
     "exception": false,
     "start_time": "2023-07-12T15:23:58.536635",
     "status": "completed"
    },
    "tags": []
   },
   "outputs": [
    {
     "data": {
      "text/plain": [
       "(576, 8)"
      ]
     },
     "execution_count": 8,
     "metadata": {},
     "output_type": "execute_result"
    }
   ],
   "source": [
    "X_train.shape"
   ]
  },
  {
   "cell_type": "code",
   "execution_count": 9,
   "id": "4ea44047",
   "metadata": {
    "execution": {
     "iopub.execute_input": "2023-07-12T15:23:58.578390Z",
     "iopub.status.busy": "2023-07-12T15:23:58.577200Z",
     "iopub.status.idle": "2023-07-12T15:23:58.584298Z",
     "shell.execute_reply": "2023-07-12T15:23:58.583291Z"
    },
    "papermill": {
     "duration": 0.019699,
     "end_time": "2023-07-12T15:23:58.586351",
     "exception": false,
     "start_time": "2023-07-12T15:23:58.566652",
     "status": "completed"
    },
    "tags": []
   },
   "outputs": [
    {
     "data": {
      "text/plain": [
       "(192, 8)"
      ]
     },
     "execution_count": 9,
     "metadata": {},
     "output_type": "execute_result"
    }
   ],
   "source": [
    "X_test.shape"
   ]
  },
  {
   "cell_type": "code",
   "execution_count": 10,
   "id": "f8c45e6d",
   "metadata": {
    "execution": {
     "iopub.execute_input": "2023-07-12T15:23:58.607218Z",
     "iopub.status.busy": "2023-07-12T15:23:58.606833Z",
     "iopub.status.idle": "2023-07-12T15:23:58.614807Z",
     "shell.execute_reply": "2023-07-12T15:23:58.613734Z"
    },
    "papermill": {
     "duration": 0.02114,
     "end_time": "2023-07-12T15:23:58.616992",
     "exception": false,
     "start_time": "2023-07-12T15:23:58.595852",
     "status": "completed"
    },
    "scrolled": true,
    "tags": []
   },
   "outputs": [
    {
     "data": {
      "text/plain": [
       "0    375\n",
       "1    201\n",
       "Name: Outcome, dtype: int64"
      ]
     },
     "execution_count": 10,
     "metadata": {},
     "output_type": "execute_result"
    }
   ],
   "source": [
    "y_train.value_counts()"
   ]
  },
  {
   "cell_type": "code",
   "execution_count": 11,
   "id": "217e66e1",
   "metadata": {
    "execution": {
     "iopub.execute_input": "2023-07-12T15:23:58.638416Z",
     "iopub.status.busy": "2023-07-12T15:23:58.637875Z",
     "iopub.status.idle": "2023-07-12T15:23:58.644751Z",
     "shell.execute_reply": "2023-07-12T15:23:58.643637Z"
    },
    "papermill": {
     "duration": 0.020481,
     "end_time": "2023-07-12T15:23:58.646968",
     "exception": false,
     "start_time": "2023-07-12T15:23:58.626487",
     "status": "completed"
    },
    "tags": []
   },
   "outputs": [
    {
     "data": {
      "text/plain": [
       "0.536"
      ]
     },
     "execution_count": 11,
     "metadata": {},
     "output_type": "execute_result"
    }
   ],
   "source": [
    "201/375"
   ]
  },
  {
   "cell_type": "code",
   "execution_count": 12,
   "id": "83d711d6",
   "metadata": {
    "execution": {
     "iopub.execute_input": "2023-07-12T15:23:58.668163Z",
     "iopub.status.busy": "2023-07-12T15:23:58.667769Z",
     "iopub.status.idle": "2023-07-12T15:23:58.676123Z",
     "shell.execute_reply": "2023-07-12T15:23:58.675110Z"
    },
    "papermill": {
     "duration": 0.021655,
     "end_time": "2023-07-12T15:23:58.678428",
     "exception": false,
     "start_time": "2023-07-12T15:23:58.656773",
     "status": "completed"
    },
    "tags": []
   },
   "outputs": [
    {
     "data": {
      "text/plain": [
       "0    125\n",
       "1     67\n",
       "Name: Outcome, dtype: int64"
      ]
     },
     "execution_count": 12,
     "metadata": {},
     "output_type": "execute_result"
    }
   ],
   "source": [
    "y_test.value_counts()"
   ]
  },
  {
   "cell_type": "code",
   "execution_count": 13,
   "id": "14f50d59",
   "metadata": {
    "execution": {
     "iopub.execute_input": "2023-07-12T15:23:58.700671Z",
     "iopub.status.busy": "2023-07-12T15:23:58.699595Z",
     "iopub.status.idle": "2023-07-12T15:23:58.705547Z",
     "shell.execute_reply": "2023-07-12T15:23:58.704791Z"
    },
    "papermill": {
     "duration": 0.019415,
     "end_time": "2023-07-12T15:23:58.707682",
     "exception": false,
     "start_time": "2023-07-12T15:23:58.688267",
     "status": "completed"
    },
    "scrolled": true,
    "tags": []
   },
   "outputs": [
    {
     "data": {
      "text/plain": [
       "0.536"
      ]
     },
     "execution_count": 13,
     "metadata": {},
     "output_type": "execute_result"
    }
   ],
   "source": [
    "67/125"
   ]
  },
  {
   "cell_type": "markdown",
   "id": "64461195",
   "metadata": {
    "papermill": {
     "duration": 0.009898,
     "end_time": "2023-07-12T15:23:58.727955",
     "exception": false,
     "start_time": "2023-07-12T15:23:58.718057",
     "status": "completed"
    },
    "tags": []
   },
   "source": [
    "<h3>Train using stand alone model</h3>"
   ]
  },
  {
   "cell_type": "code",
   "execution_count": 14,
   "id": "7b5ce078",
   "metadata": {
    "execution": {
     "iopub.execute_input": "2023-07-12T15:23:58.750842Z",
     "iopub.status.busy": "2023-07-12T15:23:58.749860Z",
     "iopub.status.idle": "2023-07-12T15:23:59.068511Z",
     "shell.execute_reply": "2023-07-12T15:23:59.067327Z"
    },
    "papermill": {
     "duration": 0.332533,
     "end_time": "2023-07-12T15:23:59.070957",
     "exception": false,
     "start_time": "2023-07-12T15:23:58.738424",
     "status": "completed"
    },
    "tags": []
   },
   "outputs": [
    {
     "data": {
      "text/plain": [
       "array([0.7012987 , 0.67532468, 0.66233766, 0.78431373, 0.7124183 ])"
      ]
     },
     "execution_count": 14,
     "metadata": {},
     "output_type": "execute_result"
    }
   ],
   "source": [
    "from sklearn.model_selection import cross_val_score\n",
    "from sklearn.tree import DecisionTreeClassifier\n",
    "\n",
    "scores = cross_val_score(DecisionTreeClassifier(), X, y, cv=5)\n",
    "scores"
   ]
  },
  {
   "cell_type": "code",
   "execution_count": 15,
   "id": "33381318",
   "metadata": {
    "execution": {
     "iopub.execute_input": "2023-07-12T15:23:59.094301Z",
     "iopub.status.busy": "2023-07-12T15:23:59.093152Z",
     "iopub.status.idle": "2023-07-12T15:23:59.101012Z",
     "shell.execute_reply": "2023-07-12T15:23:59.099865Z"
    },
    "papermill": {
     "duration": 0.02214,
     "end_time": "2023-07-12T15:23:59.103383",
     "exception": false,
     "start_time": "2023-07-12T15:23:59.081243",
     "status": "completed"
    },
    "tags": []
   },
   "outputs": [
    {
     "data": {
      "text/plain": [
       "0.7071386130209659"
      ]
     },
     "execution_count": 15,
     "metadata": {},
     "output_type": "execute_result"
    }
   ],
   "source": [
    "scores.mean()"
   ]
  },
  {
   "cell_type": "markdown",
   "id": "97ae108a",
   "metadata": {
    "papermill": {
     "duration": 0.01003,
     "end_time": "2023-07-12T15:23:59.123752",
     "exception": false,
     "start_time": "2023-07-12T15:23:59.113722",
     "status": "completed"
    },
    "tags": []
   },
   "source": [
    "<h3>Train using Bagging</h3>"
   ]
  },
  {
   "cell_type": "code",
   "execution_count": 16,
   "id": "5a73a130",
   "metadata": {
    "execution": {
     "iopub.execute_input": "2023-07-12T15:23:59.147190Z",
     "iopub.status.busy": "2023-07-12T15:23:59.146137Z",
     "iopub.status.idle": "2023-07-12T15:23:59.739496Z",
     "shell.execute_reply": "2023-07-12T15:23:59.738359Z"
    },
    "papermill": {
     "duration": 0.607661,
     "end_time": "2023-07-12T15:23:59.741874",
     "exception": false,
     "start_time": "2023-07-12T15:23:59.134213",
     "status": "completed"
    },
    "tags": []
   },
   "outputs": [
    {
     "name": "stderr",
     "output_type": "stream",
     "text": [
      "/opt/conda/lib/python3.10/site-packages/sklearn/ensemble/_base.py:166: FutureWarning: `base_estimator` was renamed to `estimator` in version 1.2 and will be removed in 1.4.\n",
      "  warnings.warn(\n"
     ]
    },
    {
     "data": {
      "text/plain": [
       "0.7534722222222222"
      ]
     },
     "execution_count": 16,
     "metadata": {},
     "output_type": "execute_result"
    }
   ],
   "source": [
    "from sklearn.ensemble import BaggingClassifier\n",
    "\n",
    "bag_model = BaggingClassifier(\n",
    "    base_estimator=DecisionTreeClassifier(), \n",
    "    n_estimators=100, \n",
    "    max_samples=0.8, \n",
    "    oob_score=True,\n",
    "    random_state=0\n",
    ")\n",
    "bag_model.fit(X_train, y_train)\n",
    "bag_model.oob_score_"
   ]
  },
  {
   "cell_type": "code",
   "execution_count": 17,
   "id": "790469cb",
   "metadata": {
    "execution": {
     "iopub.execute_input": "2023-07-12T15:23:59.765299Z",
     "iopub.status.busy": "2023-07-12T15:23:59.764897Z",
     "iopub.status.idle": "2023-07-12T15:23:59.789784Z",
     "shell.execute_reply": "2023-07-12T15:23:59.788586Z"
    },
    "papermill": {
     "duration": 0.03978,
     "end_time": "2023-07-12T15:23:59.792301",
     "exception": false,
     "start_time": "2023-07-12T15:23:59.752521",
     "status": "completed"
    },
    "tags": []
   },
   "outputs": [
    {
     "data": {
      "text/plain": [
       "0.7760416666666666"
      ]
     },
     "execution_count": 17,
     "metadata": {},
     "output_type": "execute_result"
    }
   ],
   "source": [
    "bag_model.score(X_test, y_test)"
   ]
  },
  {
   "cell_type": "code",
   "execution_count": 18,
   "id": "120b4a33",
   "metadata": {
    "execution": {
     "iopub.execute_input": "2023-07-12T15:23:59.816266Z",
     "iopub.status.busy": "2023-07-12T15:23:59.815848Z",
     "iopub.status.idle": "2023-07-12T15:24:02.268181Z",
     "shell.execute_reply": "2023-07-12T15:24:02.267013Z"
    },
    "papermill": {
     "duration": 2.466917,
     "end_time": "2023-07-12T15:24:02.270543",
     "exception": false,
     "start_time": "2023-07-12T15:23:59.803626",
     "status": "completed"
    },
    "tags": []
   },
   "outputs": [
    {
     "name": "stderr",
     "output_type": "stream",
     "text": [
      "/opt/conda/lib/python3.10/site-packages/sklearn/ensemble/_base.py:166: FutureWarning: `base_estimator` was renamed to `estimator` in version 1.2 and will be removed in 1.4.\n",
      "  warnings.warn(\n",
      "/opt/conda/lib/python3.10/site-packages/sklearn/ensemble/_base.py:166: FutureWarning: `base_estimator` was renamed to `estimator` in version 1.2 and will be removed in 1.4.\n",
      "  warnings.warn(\n",
      "/opt/conda/lib/python3.10/site-packages/sklearn/ensemble/_base.py:166: FutureWarning: `base_estimator` was renamed to `estimator` in version 1.2 and will be removed in 1.4.\n",
      "  warnings.warn(\n",
      "/opt/conda/lib/python3.10/site-packages/sklearn/ensemble/_base.py:166: FutureWarning: `base_estimator` was renamed to `estimator` in version 1.2 and will be removed in 1.4.\n",
      "  warnings.warn(\n",
      "/opt/conda/lib/python3.10/site-packages/sklearn/ensemble/_base.py:166: FutureWarning: `base_estimator` was renamed to `estimator` in version 1.2 and will be removed in 1.4.\n",
      "  warnings.warn(\n"
     ]
    },
    {
     "data": {
      "text/plain": [
       "array([0.75324675, 0.72727273, 0.74675325, 0.82352941, 0.73856209])"
      ]
     },
     "execution_count": 18,
     "metadata": {},
     "output_type": "execute_result"
    }
   ],
   "source": [
    "bag_model = BaggingClassifier(\n",
    "    base_estimator=DecisionTreeClassifier(), \n",
    "    n_estimators=100, \n",
    "    max_samples=0.8, \n",
    "    oob_score=True,\n",
    "    random_state=0\n",
    ")\n",
    "scores = cross_val_score(bag_model, X, y, cv=5)\n",
    "scores"
   ]
  },
  {
   "cell_type": "code",
   "execution_count": 19,
   "id": "c833de5d",
   "metadata": {
    "execution": {
     "iopub.execute_input": "2023-07-12T15:24:02.296765Z",
     "iopub.status.busy": "2023-07-12T15:24:02.296319Z",
     "iopub.status.idle": "2023-07-12T15:24:02.303731Z",
     "shell.execute_reply": "2023-07-12T15:24:02.302398Z"
    },
    "papermill": {
     "duration": 0.02357,
     "end_time": "2023-07-12T15:24:02.306231",
     "exception": false,
     "start_time": "2023-07-12T15:24:02.282661",
     "status": "completed"
    },
    "tags": []
   },
   "outputs": [
    {
     "data": {
      "text/plain": [
       "0.7578728461081402"
      ]
     },
     "execution_count": 19,
     "metadata": {},
     "output_type": "execute_result"
    }
   ],
   "source": [
    "scores.mean()"
   ]
  },
  {
   "cell_type": "markdown",
   "id": "5209f8ea",
   "metadata": {
    "papermill": {
     "duration": 0.011328,
     "end_time": "2023-07-12T15:24:02.329418",
     "exception": false,
     "start_time": "2023-07-12T15:24:02.318090",
     "status": "completed"
    },
    "tags": []
   },
   "source": [
    "We can see some improvement in test score with bagging classifier as compared to a standalone classifier"
   ]
  },
  {
   "cell_type": "markdown",
   "id": "c3f8c81a",
   "metadata": {
    "papermill": {
     "duration": 0.011199,
     "end_time": "2023-07-12T15:24:02.352098",
     "exception": false,
     "start_time": "2023-07-12T15:24:02.340899",
     "status": "completed"
    },
    "tags": []
   },
   "source": [
    "<h3>Train using Random Forest</h3>"
   ]
  },
  {
   "cell_type": "code",
   "execution_count": 20,
   "id": "26be6966",
   "metadata": {
    "execution": {
     "iopub.execute_input": "2023-07-12T15:24:02.377179Z",
     "iopub.status.busy": "2023-07-12T15:24:02.376253Z",
     "iopub.status.idle": "2023-07-12T15:24:03.150409Z",
     "shell.execute_reply": "2023-07-12T15:24:03.149306Z"
    },
    "papermill": {
     "duration": 0.789242,
     "end_time": "2023-07-12T15:24:03.152861",
     "exception": false,
     "start_time": "2023-07-12T15:24:02.363619",
     "status": "completed"
    },
    "tags": []
   },
   "outputs": [
    {
     "data": {
      "text/plain": [
       "0.7579067990832696"
      ]
     },
     "execution_count": 20,
     "metadata": {},
     "output_type": "execute_result"
    }
   ],
   "source": [
    "from sklearn.ensemble import RandomForestClassifier\n",
    "\n",
    "scores = cross_val_score(RandomForestClassifier(n_estimators=50), X, y, cv=5)\n",
    "scores.mean()"
   ]
  }
 ],
 "metadata": {
  "kernelspec": {
   "display_name": "Python 3",
   "language": "python",
   "name": "python3"
  },
  "language_info": {
   "codemirror_mode": {
    "name": "ipython",
    "version": 3
   },
   "file_extension": ".py",
   "mimetype": "text/x-python",
   "name": "python",
   "nbconvert_exporter": "python",
   "pygments_lexer": "ipython3",
   "version": "3.10.12"
  },
  "papermill": {
   "default_parameters": {},
   "duration": 18.299985,
   "end_time": "2023-07-12T15:24:04.086498",
   "environment_variables": {},
   "exception": null,
   "input_path": "__notebook__.ipynb",
   "output_path": "__notebook__.ipynb",
   "parameters": {},
   "start_time": "2023-07-12T15:23:45.786513",
   "version": "2.4.0"
  }
 },
 "nbformat": 4,
 "nbformat_minor": 5
}
